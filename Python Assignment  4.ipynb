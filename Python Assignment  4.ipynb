{
 "cells": [
  {
   "cell_type": "code",
   "execution_count": 2,
   "metadata": {},
   "outputs": [
    {
     "name": "stdout",
     "output_type": "stream",
     "text": [
      "Akash\n",
      "Prince\n",
      "28\n",
      "Karachi\n"
     ]
    }
   ],
   "source": [
    "# Question No. 1\n",
    "\n",
    "person_name = {\n",
    "    \"first_name\": \"Akash\",\n",
    "    \"last_name\": \"Prince\",\n",
    "    \"age\": 28,\n",
    "    \"city\": \"Karachi\",\n",
    "    }\n",
    "\n",
    "print(person_name[\"first_name\"])\n",
    "print(person_name[\"last_name\"])\n",
    "print(person_name[\"age\"])\n",
    "print(person_name[\"city\"])"
   ]
  },
  {
   "cell_type": "code",
   "execution_count": 3,
   "metadata": {},
   "outputs": [
    {
     "name": "stdout",
     "output_type": "stream",
     "text": [
      "{'first_name': 'Akash', 'last_name': 'Prince', 'age': 28, 'city': 'Karachi', 'qualification': 'Graduate'}\n"
     ]
    }
   ],
   "source": [
    "# Question No. 1\n",
    "\n",
    "person_name = {\n",
    "    \"first_name\": \"Akash\",\n",
    "    \"last_name\": \"Prince\",\n",
    "    \"age\": 28,\n",
    "    \"city\": \"Karachi\",\n",
    "    }\n",
    "person_name.update({\"qualification\": \"Graduate\"})\n",
    "\n",
    "print(person_name)"
   ]
  },
  {
   "cell_type": "code",
   "execution_count": 4,
   "metadata": {},
   "outputs": [
    {
     "name": "stdout",
     "output_type": "stream",
     "text": [
      "{'first_name': 'Akash', 'last_name': 'Prince', 'age': 28, 'city': 'Karachi'}\n"
     ]
    }
   ],
   "source": [
    "# Question No. 1\n",
    "person_name = {\n",
    "    \"first_name\": \"Akash\",\n",
    "    \"last_name\": \"Prince\",\n",
    "    \"age\": 28,\n",
    "    \"city\": \"Karachi\",\n",
    "    }\n",
    "person_name.update({\"qualification\": \"Graduate\"})\n",
    "\n",
    "del person_name [\"qualification\"]\n",
    "\n",
    "print(person_name)"
   ]
  },
  {
   "cell_type": "code",
   "execution_count": 1,
   "metadata": {},
   "outputs": [
    {
     "name": "stdout",
     "output_type": "stream",
     "text": [
      "\n",
      "Karachi is in Pakistan.\n",
      "  It has a population of about 15741000.\n",
      "It Is The Sixth Largest City In The World By City Population.\n",
      "\n",
      "United State Of America is in New York.\n",
      "  It has a population of about 19491339.\n",
      "New York City’S Federal Reserve Bank Has The Largest Gold Storage In The World.\n",
      "\n",
      "Mumbai is in India.\n",
      "  It has a population of about 20185064.\n",
      "World Most Expences House In Mumbai\n"
     ]
    }
   ],
   "source": [
    "# Question No. 2\n",
    "\n",
    "cities = {\n",
    "    \"Karachi\": {\n",
    "        \"country\": \"Pakistan\",\n",
    "        \"population\": 15741000,\n",
    "        \"fact\": \"It is the Sixth largest city in the world by city population.\",\n",
    "        },\n",
    "    \"United State of America\": {\n",
    "        \"country\": \"New York\",\n",
    "        \"population\": 19491339,\n",
    "        \"fact\": \"New York City’s Federal Reserve Bank has the largest gold storage in the world.\",\n",
    "        },\n",
    "    \"Mumbai\": {\n",
    "        \"country\": \"India\",\n",
    "        \"population\": 20185064,\n",
    "        \"fact\": \"World Most Expences House In Mumbai\",\n",
    "        }\n",
    "    }\n",
    "\n",
    "for city, city_info in cities.items():\n",
    "    country = city_info[\"country\"].title()\n",
    "    population = city_info[\"population\"]\n",
    "    fact = city_info[\"fact\"].title()\n",
    "\n",
    "    print(\"\\n\" + city.title() + \" is in \" + country + \".\")\n",
    "    print(\"  It has a population of about \" + str(population) + \".\")\n",
    "    print(fact)\n"
   ]
  },
  {
   "cell_type": "code",
   "execution_count": null,
   "metadata": {},
   "outputs": [
    {
     "name": "stdin",
     "output_type": "stream",
     "text": [
      "Plese Enter Age 1\n"
     ]
    },
    {
     "name": "stdout",
     "output_type": "stream",
     "text": [
      "You get in free!\n"
     ]
    },
    {
     "name": "stdin",
     "output_type": "stream",
     "text": [
      "Plese Enter Age 5\n"
     ]
    },
    {
     "name": "stdout",
     "output_type": "stream",
     "text": [
      "You Ticket Price Is $10.\n"
     ]
    },
    {
     "name": "stdin",
     "output_type": "stream",
     "text": [
      "Plese Enter Age 15\n"
     ]
    },
    {
     "name": "stdout",
     "output_type": "stream",
     "text": [
      "Your Ticket Price Is $15.\n"
     ]
    }
   ],
   "source": [
    "while True :\n",
    "    \n",
    "    age = input(\"Plese Enter Age\")\n",
    "    \n",
    "    age = int(age)\n",
    "    \n",
    "    if age < 3:\n",
    "        print(\"You get in free!\")\n",
    "    elif age < 13 :\n",
    "        print(\"You Ticket Price Is $10.\")\n",
    "    else:\n",
    "        print(\"Your Ticket Price Is $15.\")"
   ]
  },
  {
   "cell_type": "code",
   "execution_count": 1,
   "metadata": {},
   "outputs": [
    {
     "name": "stdout",
     "output_type": "stream",
     "text": [
      "Alice in Wonderland is one of my favorite books.\n"
     ]
    }
   ],
   "source": [
    "# Question 4\n",
    "\n",
    "def favorite_book(title):\n",
    "  \n",
    "    print(title + \" is one of my favorite books.\")\n",
    "\n",
    "favorite_book(\"Alice in Wonderland\")"
   ]
  },
  {
   "cell_type": "code",
   "execution_count": 2,
   "metadata": {},
   "outputs": [
    {
     "name": "stdout",
     "output_type": "stream",
     "text": [
      "Try to guess a number between 1 to 30 in 3 tries\n"
     ]
    },
    {
     "name": "stdin",
     "output_type": "stream",
     "text": [
      "Please enter a number between 1 to 30 1\n"
     ]
    },
    {
     "name": "stdout",
     "output_type": "stream",
     "text": [
      "1 is too low\n",
      "2 attempt(s) left\n",
      "\n"
     ]
    },
    {
     "name": "stdin",
     "output_type": "stream",
     "text": [
      "Please enter a number between 1 to 30 30\n"
     ]
    },
    {
     "name": "stdout",
     "output_type": "stream",
     "text": [
      "30 is too high\n",
      "1 attempt(s) left\n",
      "\n"
     ]
    },
    {
     "name": "stdin",
     "output_type": "stream",
     "text": [
      "Please enter a number between 1 to 30 50\n"
     ]
    },
    {
     "name": "stdout",
     "output_type": "stream",
     "text": [
      "50 is too high\n",
      "0 attempt(s) left\n",
      "\n",
      "The number to guess was:  17\n"
     ]
    },
    {
     "name": "stdin",
     "output_type": "stream",
     "text": [
      "Do you want to play again? (yes/no) yes\n"
     ]
    },
    {
     "name": "stdout",
     "output_type": "stream",
     "text": [
      "Try to guess a number between 1 to 30 in 3 tries\n"
     ]
    },
    {
     "name": "stdin",
     "output_type": "stream",
     "text": [
      "Please enter a number between 1 to 30 1\n"
     ]
    },
    {
     "name": "stdout",
     "output_type": "stream",
     "text": [
      "1 is too low\n",
      "2 attempt(s) left\n",
      "\n"
     ]
    },
    {
     "name": "stdin",
     "output_type": "stream",
     "text": [
      "Please enter a number between 1 to 30 6\n"
     ]
    },
    {
     "name": "stdout",
     "output_type": "stream",
     "text": [
      "6 is too low\n",
      "1 attempt(s) left\n",
      "\n"
     ]
    },
    {
     "name": "stdin",
     "output_type": "stream",
     "text": [
      "Please enter a number between 1 to 30 65\n"
     ]
    },
    {
     "name": "stdout",
     "output_type": "stream",
     "text": [
      "65 is too high\n",
      "0 attempt(s) left\n",
      "\n",
      "The number to guess was:  13\n"
     ]
    },
    {
     "name": "stdin",
     "output_type": "stream",
     "text": [
      "Do you want to play again? (yes/no) no\n"
     ]
    },
    {
     "name": "stdout",
     "output_type": "stream",
     "text": [
      "Thank you for playing. Goodbye\n"
     ]
    }
   ],
   "source": [
    "# Question 5\n",
    "\n",
    "import random\n",
    "answer = \"yes\"\n",
    "while answer == \"yes\":\n",
    "    NumToGuess = random.randint(1, 30)\n",
    "    NumOfTry = 3\n",
    "    print (\"Try to guess a number between 1 to 30 in 3 tries\")\n",
    "    while NumOfTry != 0:\n",
    "        try:\n",
    "            x = int (input (\"Please enter a number between 1 to 30\"))\n",
    "            if x > NumToGuess:\n",
    "                print (x,\"is too high\")\n",
    "                NumOfTry = NumOfTry - 1\n",
    "                print (NumOfTry, \"attempt(s) left\")\n",
    "                print (\"\")\n",
    "            elif x < NumToGuess:\n",
    "                print (x,\"is too low\")\n",
    "                NumOfTry = NumOfTry - 1\n",
    "                print (NumOfTry, \"attempt(s) left\")\n",
    "                print (\"\")\n",
    "            elif x == NumToGuess:\n",
    "                print (\"You Win, Congratulations!!!\")\n",
    "                NumOfTry = 0\n",
    "        except:\n",
    "            print (\"Please enter a valid number. For example 1, 5 an 25 are valid numbers to input.\")\n",
    "    else:\n",
    "        print (\"The number to guess was: \", NumToGuess)\n",
    "        answer = input ('Do you want to play again? (yes/no)')\n",
    "else:\n",
    "    print (\"Thank you for playing. Goodbye\")"
   ]
  },
  {
   "cell_type": "code",
   "execution_count": null,
   "metadata": {},
   "outputs": [],
   "source": []
  }
 ],
 "metadata": {
  "kernelspec": {
   "display_name": "Python 3",
   "language": "python",
   "name": "python3"
  },
  "language_info": {
   "codemirror_mode": {
    "name": "ipython",
    "version": 3
   },
   "file_extension": ".py",
   "mimetype": "text/x-python",
   "name": "python",
   "nbconvert_exporter": "python",
   "pygments_lexer": "ipython3",
   "version": "3.7.3"
  }
 },
 "nbformat": 4,
 "nbformat_minor": 4
}
