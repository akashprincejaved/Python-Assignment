{
 "cells": [
  {
   "cell_type": "code",
   "execution_count": 2,
   "metadata": {},
   "outputs": [
    {
     "name": "stdin",
     "output_type": "stream",
     "text": [
      "Input a number to compute the factiorial :  5\n"
     ]
    },
    {
     "name": "stdout",
     "output_type": "stream",
     "text": [
      "120\n"
     ]
    }
   ],
   "source": [
    "# Question No. 1\n",
    "\n",
    "def factorial(n):\n",
    "    if n == 0:\n",
    "        return 1\n",
    "    else:\n",
    "        return n * factorial(n-1)\n",
    "n=int(input(\"Input a number to compute the factiorial : \"))\n",
    "print(factorial(n))"
   ]
  },
  {
   "cell_type": "code",
   "execution_count": 3,
   "metadata": {},
   "outputs": [
    {
     "name": "stdout",
     "output_type": "stream",
     "text": [
      "Lower Case:  13\n",
      "Upper Case:  3\n"
     ]
    }
   ],
   "source": [
    "# Question No. 2\n",
    "\n",
    "def stringtest(a):\n",
    "    Letter_Case = {\"Lower Case\": 0,\n",
    "         \"Upper Case\": 0}\n",
    "    for c in a:\n",
    "        if c.islower():\n",
    "            Letter_Case[\"Lower Case\"] +=1\n",
    "        elif c.isupper():\n",
    "            Letter_Case[\"Upper Case\"] +=1\n",
    "        else:\n",
    "            pass\n",
    "    print(\"Lower Case: \",Letter_Case[\"Lower Case\"])\n",
    "    print(\"Upper Case: \",Letter_Case[\"Upper Case\"])\n",
    "    \n",
    "stringtest(\"Akash Prince Javed\")\n"
   ]
  },
  {
   "cell_type": "code",
   "execution_count": 4,
   "metadata": {},
   "outputs": [
    {
     "name": "stdin",
     "output_type": "stream",
     "text": [
      "Please Enter Your String Akash Prince Javed\n"
     ]
    },
    {
     "name": "stdout",
     "output_type": "stream",
     "text": [
      "Lower Case:  13\n",
      "Upper Case:  3\n"
     ]
    }
   ],
   "source": [
    "# Question No. 2 (Using Inpute Method)\n",
    "\n",
    "a = input(\"Please Enter Your String\")\n",
    "\n",
    "def stringtest(a):\n",
    "    Letter_Case = {\"Lower Case\": 0,\n",
    "         \"Upper Case\": 0}\n",
    "    for c in a:\n",
    "        if c.islower():\n",
    "            Letter_Case[\"Lower Case\"] +=1\n",
    "        elif c.isupper():\n",
    "            Letter_Case[\"Upper Case\"] +=1\n",
    "        else:\n",
    "            pass\n",
    "    print(\"Lower Case: \",Letter_Case[\"Lower Case\"])\n",
    "    print(\"Upper Case: \",Letter_Case[\"Upper Case\"])\n",
    "    \n",
    "stringtest(a)\n"
   ]
  },
  {
   "cell_type": "code",
   "execution_count": 5,
   "metadata": {},
   "outputs": [
    {
     "name": "stdout",
     "output_type": "stream",
     "text": [
      "[2, 4, 6, 8]\n"
     ]
    }
   ],
   "source": [
    "# Question No. 3\n",
    "\n",
    "def is_even_num(l):\n",
    "    enum = []\n",
    "    for n in l:\n",
    "        if n % 2 == 0:\n",
    "            enum.append(n)\n",
    "    return enum\n",
    "print(is_even_num([1, 2, 3, 4, 5, 6, 7, 8, 9]))\n"
   ]
  },
  {
   "cell_type": "code",
   "execution_count": 6,
   "metadata": {},
   "outputs": [
    {
     "name": "stdin",
     "output_type": "stream",
     "text": [
      "Enter string: Akash Prince Javed\n"
     ]
    },
    {
     "name": "stdout",
     "output_type": "stream",
     "text": [
      "String isn't a palindrome!\n"
     ]
    }
   ],
   "source": [
    "# Question no. 4\n",
    "\n",
    "def is_palindrome(s):\n",
    "    if len(s) < 1:\n",
    "        return True\n",
    "    else:\n",
    "        if s[0] == s[-1]:\n",
    "            return is_palindrome(s[1:-1])\n",
    "        else:\n",
    "            return False\n",
    "a=str(input(\"Enter string:\"))\n",
    "if(is_palindrome(a)==True):\n",
    "    print(\"String is a palindrome!\")\n",
    "else:\n",
    "    print(\"String isn't a palindrome!\")"
   ]
  },
  {
   "cell_type": "code",
   "execution_count": 9,
   "metadata": {},
   "outputs": [
    {
     "name": "stdin",
     "output_type": "stream",
     "text": [
      "Enter string: 5\n"
     ]
    },
    {
     "name": "stdout",
     "output_type": "stream",
     "text": [
      "String is a palindrome!\n"
     ]
    }
   ],
   "source": [
    "# Question no. 4\n",
    "\n",
    "def is_palindrome(s):\n",
    "    if len(s) < 1:\n",
    "        return True\n",
    "    else:\n",
    "        if s[0] == s[-1]:\n",
    "            return is_palindrome(s[1:-1])\n",
    "        else:\n",
    "            return False\n",
    "a=str(input(\"Enter string:\"))\n",
    "if(is_palindrome(a)==True):\n",
    "    print(\"String is a palindrome!\")\n",
    "else:\n",
    "    print(\"String isn't a palindrome!\")"
   ]
  },
  {
   "cell_type": "code",
   "execution_count": 11,
   "metadata": {},
   "outputs": [
    {
     "name": "stdin",
     "output_type": "stream",
     "text": [
      "Enter any number:  2\n"
     ]
    },
    {
     "name": "stdout",
     "output_type": "stream",
     "text": [
      "2 is a prime number\n"
     ]
    }
   ],
   "source": [
    "# Question No. 5\n",
    "\n",
    "number = int(input(\"Enter any number: \"))\n",
    "\n",
    "if number > 1:\n",
    "    for i in range(2, number):\n",
    "        if (number % i) == 0:\n",
    "            print(number, \"is not a prime number\")\n",
    "            break\n",
    "    else:\n",
    "        print(number, \"is a prime number\")\n",
    "\n",
    "else:\n",
    "    print(number, \"is not a prime number\")\n"
   ]
  },
  {
   "cell_type": "code",
   "execution_count": 12,
   "metadata": {},
   "outputs": [
    {
     "name": "stdin",
     "output_type": "stream",
     "text": [
      "Enter any number:  1\n"
     ]
    },
    {
     "name": "stdout",
     "output_type": "stream",
     "text": [
      "1 is not a prime number\n"
     ]
    }
   ],
   "source": [
    "# Question No. 5\n",
    "\n",
    "number = int(input(\"Enter any number: \"))\n",
    "\n",
    "if number > 1:\n",
    "    for i in range(2, number):\n",
    "        if (number % i) == 0:\n",
    "            print(number, \"is not a prime number\")\n",
    "            break\n",
    "    else:\n",
    "        print(number, \"is a prime number\")\n",
    "\n",
    "else:\n",
    "    print(number, \"is not a prime number\")\n"
   ]
  },
  {
   "cell_type": "code",
   "execution_count": 14,
   "metadata": {},
   "outputs": [
    {
     "name": "stdout",
     "output_type": "stream",
     "text": [
      "Buy Item During Shopping In Market\n",
      "=> 1 Mobile\n",
      "=> 2 Pent\n",
      "=> 3 Shirt\n",
      "=> 4 T-Shirt\n",
      "=> 5 Shoes\n"
     ]
    }
   ],
   "source": [
    "# question No. 6 \n",
    "\n",
    "def func(name,*perameter):\n",
    "    print(\"Buy Item\" +\" \"+ name)\n",
    "    for param in perameter:\n",
    "        print(param)\n",
    "\n",
    "func(\"During Shopping In Market\",\"=> 1 Mobile\",\"=> 2 Pent\",\"=> 3 Shirt\",\"=> 4 T-Shirt\",\"=> 5 Shoes\")\n"
   ]
  },
  {
   "cell_type": "code",
   "execution_count": null,
   "metadata": {},
   "outputs": [],
   "source": []
  }
 ],
 "metadata": {
  "kernelspec": {
   "display_name": "Python 3",
   "language": "python",
   "name": "python3"
  },
  "language_info": {
   "codemirror_mode": {
    "name": "ipython",
    "version": 3
   },
   "file_extension": ".py",
   "mimetype": "text/x-python",
   "name": "python",
   "nbconvert_exporter": "python",
   "pygments_lexer": "ipython3",
   "version": "3.7.3"
  }
 },
 "nbformat": 4,
 "nbformat_minor": 4
}
