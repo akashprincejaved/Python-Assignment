{
 "cells": [
  {
   "cell_type": "code",
   "execution_count": 1,
   "metadata": {},
   "outputs": [
    {
     "name": "stdout",
     "output_type": "stream",
     "text": [
      "\n",
      "Object-oriented programming (OOP) is a programming language model in which programs are organized around data, or objects, rather than functions and logic.\n",
      "An object can be defined as a data field that has unique attributes and behavior.\n",
      "Examples of an object can range from physical entities, such as a human being that is described by properties like name and address, down to small computer programs, such as widgets.\n",
      "This opposes the historical approach to programming where emphasis was placed on how the logic was written rather than how to define the data within the logic.\n",
      "\n"
     ]
    }
   ],
   "source": [
    "# Question No. 1\n",
    "\n",
    "print('''\n",
    "Object-oriented programming (OOP) is a programming language model in which programs are organized around data, or objects, rather than functions and logic.\n",
    "An object can be defined as a data field that has unique attributes and behavior.\n",
    "Examples of an object can range from physical entities, such as a human being that is described by properties like name and address, down to small computer programs, such as widgets.\n",
    "This opposes the historical approach to programming where emphasis was placed on how the logic was written rather than how to define the data within the logic.\n",
    "''')"
   ]
  },
  {
   "cell_type": "code",
   "execution_count": 2,
   "metadata": {},
   "outputs": [
    {
     "name": "stdout",
     "output_type": "stream",
     "text": [
      "\n",
      "1. Modularity for easier troubleshooting. Something has gone wrong, and you have no idea where to look.\n",
      "2. Reuse of code through inheritance.\n",
      "3. Flexibility through polymorphism.\n",
      "4 .Effective problem solving.\n",
      "\n"
     ]
    }
   ],
   "source": [
    "# Question No. 2\n",
    "\n",
    "\n",
    "print('''\n",
    "1. Modularity for easier troubleshooting. Something has gone wrong, and you have no idea where to look.\n",
    "2. Reuse of code through inheritance.\n",
    "3. Flexibility through polymorphism.\n",
    "4 .Effective problem solving.\n",
    "''')"
   ]
  },
  {
   "cell_type": "code",
   "execution_count": 3,
   "metadata": {},
   "outputs": [
    {
     "name": "stdout",
     "output_type": "stream",
     "text": [
      "\n",
      "\n",
      "1. FUNTION:-\n",
      "\n",
      "A function is a piece of code that is called by name.\n",
      "It can be passed data to operate on (i.e. the parameters) and can optionally return data (the return value).\n",
      "All data that is passed to a function is explicitly passed.\n",
      "\n",
      "2. METHOD:-\n",
      "\n",
      "A method is a piece of code that is called by a name that is associated with an object.\n",
      "In most respects it is identical to a function except for two key differences:\n",
      "\n",
      "A method is implicitly passed the object on which it was called.\n",
      "A method is able to operate on data that is contained within the class\n",
      "(remembering that an object is an instance of a class - the class is the definition, the object is an instance of that data).\n",
      "\n"
     ]
    }
   ],
   "source": [
    "# Question No. 3\n",
    "\n",
    "print('''\n",
    "\n",
    "1. FUNTION:-\n",
    "\n",
    "A function is a piece of code that is called by name.\n",
    "It can be passed data to operate on (i.e. the parameters) and can optionally return data (the return value).\n",
    "All data that is passed to a function is explicitly passed.\n",
    "\n",
    "2. METHOD:-\n",
    "\n",
    "A method is a piece of code that is called by a name that is associated with an object.\n",
    "In most respects it is identical to a function except for two key differences:\n",
    "\n",
    "A method is implicitly passed the object on which it was called.\n",
    "A method is able to operate on data that is contained within the class\n",
    "(remembering that an object is an instance of a class - the class is the definition, the object is an instance of that data).\n",
    "''')"
   ]
  },
  {
   "cell_type": "code",
   "execution_count": 4,
   "metadata": {},
   "outputs": [
    {
     "name": "stdout",
     "output_type": "stream",
     "text": [
      "\n",
      "\n",
      "CLASS:-\n",
      "\n",
      "A blueprint created by a programmer for an object.\n",
      "This defines a set of attributes that will characterize any object that is instantiated from this class.\n",
      "\n",
      "\n",
      "OBJECT:-\n",
      "\n",
      "An instance of a class. This is the realized version of the class, where the class is manifested in the program.\n",
      "\n",
      "\n",
      "INSTANCE ATTRIBUTES:-\n",
      "\n",
      "Inheritance in object-oriented programming is pretty similar to real-world inheritance\n",
      "where a child inherits some of the characteristics from his parents \n",
      "in addition to his/her own unique characteristics.\n",
      "\n",
      "CLASS ATTRIBUTES:-\n",
      "\n",
      "Class Attributes are unique to each class.\n",
      "Each instance of the class will have this attribute.\n",
      "It’s sometimes used to specify a defualt value that all objects should have after they’ve been instantiated.\n",
      "Here, our class attribute is species\n",
      "\n",
      "\n",
      "\n"
     ]
    }
   ],
   "source": [
    "# Question NO. 4\n",
    "print('''\n",
    "\n",
    "CLASS:-\n",
    "\n",
    "A blueprint created by a programmer for an object.\n",
    "This defines a set of attributes that will characterize any object that is instantiated from this class.\n",
    "\n",
    "\n",
    "OBJECT:-\n",
    "\n",
    "An instance of a class. This is the realized version of the class, where the class is manifested in the program.\n",
    "\n",
    "\n",
    "INSTANCE ATTRIBUTES:-\n",
    "\n",
    "Inheritance in object-oriented programming is pretty similar to real-world inheritance\n",
    "where a child inherits some of the characteristics from his parents \n",
    "in addition to his/her own unique characteristics.\n",
    "\n",
    "CLASS ATTRIBUTES:-\n",
    "\n",
    "Class Attributes are unique to each class.\n",
    "Each instance of the class will have this attribute.\n",
    "It’s sometimes used to specify a defualt value that all objects should have after they’ve been instantiated.\n",
    "Here, our class attribute is species\n",
    "\n",
    "\n",
    "''')"
   ]
  },
  {
   "cell_type": "code",
   "execution_count": 5,
   "metadata": {},
   "outputs": [
    {
     "name": "stdout",
     "output_type": "stream",
     "text": [
      "Honda Type R White 170 mph (Est.) 20 kilometer\n",
      "Audi RS7 Black 155 mph 30 kilometer\n"
     ]
    }
   ],
   "source": [
    "# Question No. 5\n",
    "\n",
    "class Car():\n",
    "    def __init__(self, name, model, color, speed, avg):\n",
    "        self.name = name\n",
    "        self.model = model\n",
    "        self.color = color\n",
    "        self.speed = speed\n",
    "        self.avg = avg\n",
    "    \n",
    "    def firstcar(self):\n",
    "        return f\"{self.name} {self.model} {self.color} {self.speed} {self.avg}\"\n",
    "    \n",
    "    def secondcar(self):\n",
    "        return f\"{self.name} {self.model} {self.color} {self.speed} {self.avg}\"\n",
    "        \n",
    "car1 = Car(\"Honda\", \"Type R\", \"White\", \"170 mph (Est.)\", \"20 kilometer\")\n",
    "\n",
    "car2 = Car(\"Audi\", \"RS7\", \"Black\", \"155 mph\", \"30 kilometer\")\n",
    "\n",
    "print(car1.firstcar())\n",
    "print(car2.secondcar())"
   ]
  },
  {
   "cell_type": "code",
   "execution_count": null,
   "metadata": {},
   "outputs": [],
   "source": []
  }
 ],
 "metadata": {
  "kernelspec": {
   "display_name": "Python 3",
   "language": "python",
   "name": "python3"
  },
  "language_info": {
   "codemirror_mode": {
    "name": "ipython",
    "version": 3
   },
   "file_extension": ".py",
   "mimetype": "text/x-python",
   "name": "python",
   "nbconvert_exporter": "python",
   "pygments_lexer": "ipython3",
   "version": "3.7.4"
  }
 },
 "nbformat": 4,
 "nbformat_minor": 2
}
