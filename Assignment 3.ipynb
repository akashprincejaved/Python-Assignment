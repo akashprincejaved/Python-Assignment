{
 "cells": [
  {
   "cell_type": "code",
   "execution_count": 1,
   "metadata": {},
   "outputs": [
    {
     "name": "stdout",
     "output_type": "stream",
     "text": [
      "Enter You Fist Value5\n",
      "Enter You Second Value5\n",
      "Enter Your Operator+\n",
      "10 Answer\n"
     ]
    }
   ],
   "source": [
    "#Task No. 1\n",
    "\n",
    "val1 = int(input(\"Enter You Fist Value\"))\n",
    "val2 = int(input(\"Enter You Second Value\"))\n",
    "operator = input(\"Enter Your Operator\")\n",
    "\n",
    "if operator == \"+\":\n",
    " val = val1 + val2\n",
    " print(val,\"Answer\")\n",
    " \n",
    "elif operator == \"-\":\n",
    " val = val1 - val2\n",
    " print(val,\"Answer\")\n",
    " \n",
    "elif operator == \"*\":\n",
    " val = val1 * val2\n",
    " print(val,\"Answer\")\n",
    " \n",
    "elif operator == \"/\":\n",
    " val = val1 / val2\n",
    " print(val,\"Answer\")\n",
    " \n",
    "elif operator == \"**\":\n",
    " val = val1 ** val2\n",
    " print(val,\"Answer\")\n",
    "\n",
    "else:\n",
    "  print(\"Enter Correct operator\")"
   ]
  },
  {
   "cell_type": "code",
   "execution_count": 3,
   "metadata": {},
   "outputs": [
    {
     "ename": "SyntaxError",
     "evalue": "invalid syntax (<ipython-input-3-8930a4b22111>, line 3)",
     "output_type": "error",
     "traceback": [
      "\u001b[1;36m  File \u001b[1;32m\"<ipython-input-3-8930a4b22111>\"\u001b[1;36m, line \u001b[1;32m3\u001b[0m\n\u001b[1;33m    if (check item can be converted to integer):\u001b[0m\n\u001b[1;37m                 ^\u001b[0m\n\u001b[1;31mSyntaxError\u001b[0m\u001b[1;31m:\u001b[0m invalid syntax\n"
     ]
    }
   ],
   "source": [
    "mylist=['1','orange','2','3','4','apple']\n",
    "for item in mylist:\n",
    "    if (check item can be converted to integer):\n",
    "        mynewlist.append(item)\n",
    "    print(mynewlist)"
   ]
  },
  {
   "cell_type": "code",
   "execution_count": 10,
   "metadata": {},
   "outputs": [
    {
     "name": "stdout",
     "output_type": "stream",
     "text": [
      "['1', '2', '3', '4']\n",
      "['1', '2', '3', '4']\n",
      "['1', '2', '3', '4']\n",
      "['1', '2', '3', '4']\n",
      "['1', '2', '3', '4']\n",
      "['1', '2', '3', '4']\n"
     ]
    }
   ],
   "source": [
    "#Task No. 2\n",
    "\n",
    "mylist=['1','orange','2','3','4','apple']\n",
    "for item in mylist:\n",
    "    mynewlist =  [s for s in mylist if s.isdigit()]\n",
    "    print(mynewlist)"
   ]
  },
  {
   "cell_type": "code",
   "execution_count": 14,
   "metadata": {},
   "outputs": [
    {
     "name": "stdout",
     "output_type": "stream",
     "text": [
      "{'First Name': 'Akash ', 'Last Name': 'Prince', 'Language': 'Urdu'}\n"
     ]
    }
   ],
   "source": [
    "# Task No. 3\n",
    "\n",
    "customer = {\"First Name\": \"Akash \",\n",
    "            \"Last Name\": \"Prince\",\n",
    "           }\n",
    "customer[\"Language\"] = \"Urdu\"\n",
    "print(customer)\n"
   ]
  },
  {
   "cell_type": "code",
   "execution_count": 13,
   "metadata": {},
   "outputs": [
    {
     "name": "stdout",
     "output_type": "stream",
     "text": [
      "293\n"
     ]
    }
   ],
   "source": [
    "#Task No. 4\n",
    "\n",
    "Data = {'data1':100,'data2':-54,'data3':247}\n",
    "print(sum(Data.values()))\n"
   ]
  },
  {
   "cell_type": "code",
   "execution_count": 15,
   "metadata": {},
   "outputs": [
    {
     "name": "stdout",
     "output_type": "stream",
     "text": [
      "[3, 9, 12]\n"
     ]
    }
   ],
   "source": [
    "# Task No. 5\n",
    "\n",
    "Data = [ 3, 6, 9, 12, 3, 30, 15, 9, 45, 36, 12, 12]\n",
    "dupItems = []\n",
    "uniqItems = {}\n",
    "for x in Data:\n",
    "   if x not in uniqItems:\n",
    "      uniqItems[x] = 1\n",
    "   else:\n",
    "      if uniqItems[x] == 1:\n",
    "         dupItems.append(x)\n",
    "      uniqItems[x] += 1\n",
    "print(dupItems)\n"
   ]
  },
  {
   "cell_type": "code",
   "execution_count": 16,
   "metadata": {},
   "outputs": [
    {
     "name": "stdout",
     "output_type": "stream",
     "text": [
      "Key is present in the dictionary\n",
      "Key is not present in the dictionary\n"
     ]
    }
   ],
   "source": [
    "#Task No. 6\n",
    "\n",
    "a = {1: 10, 2: 20, 3: 30, 4: 40, 5: 50, 6: 60}\n",
    "def is_key_present(x):\n",
    "  if x in a:\n",
    "      print('Key is present in the dictionary')\n",
    "  else:\n",
    "      print('Key is not present in the dictionary')\n",
    "is_key_present(5)\n",
    "is_key_present(9)\n"
   ]
  },
  {
   "cell_type": "code",
   "execution_count": null,
   "metadata": {},
   "outputs": [],
   "source": []
  }
 ],
 "metadata": {
  "kernelspec": {
   "display_name": "Python 3",
   "language": "python",
   "name": "python3"
  },
  "language_info": {
   "codemirror_mode": {
    "name": "ipython",
    "version": 3
   },
   "file_extension": ".py",
   "mimetype": "text/x-python",
   "name": "python",
   "nbconvert_exporter": "python",
   "pygments_lexer": "ipython3",
   "version": "3.7.4"
  }
 },
 "nbformat": 4,
 "nbformat_minor": 2
}
